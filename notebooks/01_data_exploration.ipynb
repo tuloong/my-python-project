{
  "cells": [
    {
      "cell_type": "raw",
      "metadata": {
        "vscode": {
          "languageId": "raw"
        }
      },
      "source": [
        "# 沪深300股价数据探索\n",
        "\n",
        "本笔记本用于探索沪深300指数成分股的历史数据，了解数据分布、特征关系等。\n"
      ]
    },
    {
      "cell_type": "code",
      "execution_count": null,
      "metadata": {},
      "outputs": [],
      "source": [
        "import sys\n",
        "import pandas as pd\n",
        "import numpy as np\n",
        "import matplotlib.pyplot as plt\n",
        "import seaborn as sns\n",
        "from pathlib import Path\n",
        "\n",
        "# 添加项目根目录到路径\n",
        "PROJECT_ROOT = Path('.').parent\n",
        "sys.path.insert(0, str(PROJECT_ROOT))\n",
        "\n",
        "from src.data.data_loader import DataLoader\n",
        "from src.data.data_preprocessor import DataPreprocessor\n",
        "from src.config import DATA_PATHS\n",
        "\n",
        "# 设置绘图样式\n",
        "plt.style.use('seaborn-v0_8')\n",
        "sns.set_palette(\"husl\")\n",
        "\n",
        "%matplotlib inline\n"
      ]
    }
  ],
  "metadata": {
    "language_info": {
      "name": "python"
    }
  },
  "nbformat": 4,
  "nbformat_minor": 2
}
